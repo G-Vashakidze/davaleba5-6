{
 "cells": [
  {
   "cell_type": "code",
   "execution_count": 21,
   "id": "cd1d2eda",
   "metadata": {},
   "outputs": [
    {
     "name": "stdout",
     "output_type": "stream",
     "text": [
      "R-squared for Task 1: -0.35711784415887493\n"
     ]
    }
   ],
   "source": [
    "\n",
    "import pandas as pd\n",
    "from sklearn.model_selection import train_test_split\n",
    "from sklearn.linear_model import LinearRegression, LogisticRegression\n",
    "from sklearn.tree import DecisionTreeRegressor, DecisionTreeClassifier\n",
    "from sklearn.metrics import r2_score, accuracy_score\n",
    "data = pd.read_csv('data.csv')\n",
    "\n",
    "\n",
    "X_task1 = data[['rank']]  # Independent variable (rank)\n",
    "y_task1 = data['2023 population']  # Dependent variable (2023 population)\n",
    "\n",
    "# Split the data into training and testing sets\n",
    "X_train_task1, X_test_task1, y_train_task1, y_test_task1 = train_test_split(X_task1, y_task1, test_size=0.2, random_state=42)\n",
    "\n",
    "# Initialize the Linear Regression model for Task 1\n",
    "model_task1 = LinearRegression()\n",
    "\n",
    "# Fit the model on the training data for Task 1\n",
    "model_task1.fit(X_train_task1, y_train_task1)\n",
    "\n",
    "# Predict on the test set for Task 1\n",
    "predictions_task1 = model_task1.predict(X_test_task1)\n",
    "\n",
    "# Calculate R-squared score for Task 1\n",
    "r_squared_task1 = r2_score(y_test_task1, predictions_task1)\n",
    "print(f\"R-squared for Task 1: {r_squared_task1}\")\n",
    "\n"
   ]
  },
  {
   "cell_type": "code",
   "execution_count": 22,
   "id": "e7a4d3c3",
   "metadata": {},
   "outputs": [
    {
     "name": "stdout",
     "output_type": "stream",
     "text": [
      "R-squared for Task 2: 0.38702948577122875\n"
     ]
    }
   ],
   "source": [
    "X_task2 = data[['rank', 'density (km²)', 'area (km²)']]  # Independent variables (rank, density, area)\n",
    "y_task2 = data['2023 population']  # Dependent variable (2023 population)\n",
    "\n",
    "# Split the data into training and testing sets for Task 2\n",
    "X_train_task2, X_test_task2, y_train_task2, y_test_task2 = train_test_split(X_task2, y_task2, test_size=0.2, random_state=42)\n",
    "\n",
    "# Initialize the Linear Regression model for Task 2\n",
    "model_task2 = LinearRegression()\n",
    "\n",
    "# Fit the model on the training data for Task 2\n",
    "model_task2.fit(X_train_task2, y_train_task2)\n",
    "\n",
    "# Predict on the test set for Task 2\n",
    "predictions_task2 = model_task2.predict(X_test_task2)\n",
    "\n",
    "# Calculate R-squared score for Task 2\n",
    "r_squared_task2 = r2_score(y_test_task2, predictions_task2)\n",
    "print(f\"R-squared for Task 2: {r_squared_task2}\")"
   ]
  },
  {
   "cell_type": "code",
   "execution_count": 23,
   "id": "3bb2fb63",
   "metadata": {},
   "outputs": [
    {
     "name": "stdout",
     "output_type": "stream",
     "text": [
      "R-squared for Decision Tree Regression with Single Variable: 0.9941628654958332\n"
     ]
    }
   ],
   "source": [
    "X_single = data[['rank']]  # Independent variable (rank)\n",
    "y_single = data['2023 population']  # Dependent variable (2023 population)\n",
    "\n",
    "# Split the data into training and testing sets for single variable\n",
    "X_train_single, X_test_single, y_train_single, y_test_single = train_test_split(X_single, y_single, test_size=0.2, random_state=42)\n",
    "\n",
    "# Initialize the Decision Tree Regression model for single variable\n",
    "model_single = DecisionTreeRegressor(random_state=42)\n",
    "\n",
    "# Fit the model on the training data for single variable\n",
    "model_single.fit(X_train_single, y_train_single)\n",
    "\n",
    "# Predict on the test set for single variable\n",
    "predictions_single = model_single.predict(X_test_single)\n",
    "\n",
    "# Calculate R-squared score for single variable\n",
    "r_squared_single = r2_score(y_test_single, predictions_single)\n",
    "print(f\"R-squared for Decision Tree Regression with Single Variable: {r_squared_single}\")"
   ]
  },
  {
   "cell_type": "code",
   "execution_count": 24,
   "id": "8f48cc77",
   "metadata": {},
   "outputs": [
    {
     "name": "stdout",
     "output_type": "stream",
     "text": [
      "Accuracy of Logistic Regression model: 0.9148936170212766\n"
     ]
    }
   ],
   "source": [
    "# For demonstration, let's say 'is_high_population' is 1 if '2023 population' is above a certain threshold, else 0\n",
    "threshold = 1000000  # Set a population threshold as an example\n",
    "data['is_high_population'] = (data['2023 population'] > threshold).astype(int)\n",
    "\n",
    "# Select relevant features and the binary target variable\n",
    "X = data[['rank', 'density (km²)', 'area (km²)']]  # Features\n",
    "y = data['is_high_population']  # Target variable\n",
    "\n",
    "# Split the data into training and testing sets\n",
    "X_train, X_test, y_train, y_test = train_test_split(X, y, test_size=0.2, random_state=42)\n",
    "\n",
    "# Initialize the Logistic Regression model\n",
    "model = LogisticRegression(random_state=42)\n",
    "\n",
    "# Fit the model on the training data\n",
    "model.fit(X_train, y_train)\n",
    "\n",
    "# Predict on the test set\n",
    "predictions = model.predict(X_test)\n",
    "\n",
    "# Calculate accuracy score to evaluate the model\n",
    "accuracy = accuracy_score(y_test, predictions)\n",
    "print(f\"Accuracy of Logistic Regression model: {accuracy}\")"
   ]
  },
  {
   "cell_type": "code",
   "execution_count": 26,
   "id": "4a95f76d",
   "metadata": {},
   "outputs": [
    {
     "name": "stdout",
     "output_type": "stream",
     "text": [
      "Accuracy of Decision Tree Classifier model: 1.0\n"
     ]
    }
   ],
   "source": [
    "threshold = 1000000  # Set a population threshold as an example\n",
    "data['is_high_population'] = (data['2023 population'] > threshold).astype(int)\n",
    "\n",
    "# Select relevant features and the binary target variable\n",
    "X = data[['rank', 'density (km²)', 'area (km²)']]  # Features\n",
    "y = data['is_high_population']  # Target variable\n",
    "\n",
    "# Split the data into training and testing sets\n",
    "X_train, X_test, y_train, y_test = train_test_split(X, y, test_size=0.2, random_state=42)\n",
    "\n",
    "# Initialize the Decision Tree Classifier model\n",
    "model = DecisionTreeClassifier(random_state=42)\n",
    "\n",
    "# Fit the model on the training data\n",
    "model.fit(X_train, y_train)\n",
    "\n",
    "# Predict on the test set\n",
    "predictions = model.predict(X_test)\n",
    "\n",
    "# Calculate accuracy score to evaluate the model\n",
    "accuracy = accuracy_score(y_test, predictions)\n",
    "print(f\"Accuracy of Decision Tree Classifier model: {accuracy}\")"
   ]
  },
  {
   "cell_type": "code",
   "execution_count": null,
   "id": "a4648682",
   "metadata": {},
   "outputs": [],
   "source": []
  }
 ],
 "metadata": {
  "kernelspec": {
   "display_name": "Python 3 (ipykernel)",
   "language": "python",
   "name": "python3"
  },
  "language_info": {
   "codemirror_mode": {
    "name": "ipython",
    "version": 3
   },
   "file_extension": ".py",
   "mimetype": "text/x-python",
   "name": "python",
   "nbconvert_exporter": "python",
   "pygments_lexer": "ipython3",
   "version": "3.11.5"
  }
 },
 "nbformat": 4,
 "nbformat_minor": 5
}
